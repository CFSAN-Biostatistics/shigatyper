{
 "cells": [
  {
   "cell_type": "code",
   "execution_count": null,
   "metadata": {},
   "outputs": [],
   "source": [
    "threshold = 50\n",
    "fastp = 0"
   ]
  },
  {
   "cell_type": "markdown",
   "metadata": {},
   "source": [
    "### Date of Analysis"
   ]
  },
  {
   "cell_type": "code",
   "execution_count": null,
   "metadata": {},
   "outputs": [],
   "source": [
    "import datetime\n",
    "now = datetime.datetime.now().strftime(\"%Y%m%d\")\n",
    "print(\"Date subfix:\", now)"
   ]
  },
  {
   "cell_type": "markdown",
   "metadata": {},
   "source": [
    "### Samples subjected to Shigella serotyping analysis:"
   ]
  },
  {
   "cell_type": "code",
   "execution_count": null,
   "metadata": {},
   "outputs": [],
   "source": [
    "# identify sample names for the pair-end reads\n",
    "import glob\n",
    "import os\n",
    "import pandas as pd \n",
    "files = glob.glob(\"*.fastq.gz\")\n",
    "names = []\n",
    "for file in files:\n",
    "    names.append(file[:file.find(\"_\")])\n",
    "samples = list(set(names))\n",
    "samples.sort()\n",
    "sizes = []\n",
    "for Sample in samples:\n",
    "    size = 0\n",
    "    for file in files:\n",
    "        if file.startswith(Sample+\"_\"):\n",
    "            size += os.path.getsize(file)\n",
    "    sizes.append(round(size/1024000, 1))\n",
    "\n",
    "sizetable = pd.DataFrame({'Sample': samples, 'Size (MB)': sizes})"
   ]
  },
  {
   "cell_type": "code",
   "execution_count": null,
   "metadata": {},
   "outputs": [],
   "source": [
    "# \n",
    "ShigellaRef = \"../../references/ShigellaRef5.fasta\"\n",
    "if os.path.isfile(ShigellaRef) == False:\n",
    "    print(\"Error: reference sequence database does not exist!\")\n",
    "    exit()\n",
    "# generate a index file for reference\n",
    "dir_path = os.path.dirname(os.path.realpath(ShigellaRef))\n",
    "rel_dir = os.path.relpath(dir_path, os.getcwd())\n",
    "mmi_index = os.path.join(rel_dir, \"ShigellaRef5.mmi\")\n",
    "if os.path.isfile(mmi_index) == False:\n",
    "    print(\"building Reference sequence index.......\")\n",
    "    !minimap2 -d $mmi_index $ShigellaRef\n",
    "# another index needed to generate\n",
    "fai_index = os.path.join(rel_dir, \"ShigellaRef5.fasta.fai\")\n",
    "if os.path.isfile(fai_index) == False:\n",
    "    !samtools faidx $ShigellaRef"
   ]
  },
  {
   "cell_type": "code",
   "execution_count": null,
   "metadata": {
    "scrolled": true
   },
   "outputs": [],
   "source": [
    "import datetime\n",
    "now = datetime.datetime.now().strftime(\"%Y%m%d\")\n",
    "import papermill as pm\n",
    "outputs = []\n",
    "for Sample in samples:\n",
    "    reads = []\n",
    "    for file in files:\n",
    "        if file.startswith(Sample+\"_\"):\n",
    "            reads.append(file)\n",
    "    if len(reads) == 2:\n",
    "        output = Sample + \"_\" + str(threshold) + \"_\" + now + \".ipynb\"\n",
    "        outputs.append(output); print(\" \")\n",
    "        pm.execute_notebook('batch_102618.ipynb', output,\n",
    "                            dict(Sample=Sample, read1 = reads[0], read2 = reads[1], fastp = fastp, threshold = threshold)) \n",
    "        !jupyter nbconvert --to html $output\n",
    "    else: print('\\n'+Sample + \" does not have pair-end reads! Please re-examine.\")"
   ]
  },
  {
   "cell_type": "markdown",
   "metadata": {},
   "source": [
    "### Summary of serotype prediction results:"
   ]
  },
  {
   "cell_type": "code",
   "execution_count": null,
   "metadata": {},
   "outputs": [],
   "source": [
    "print(\"Date of analysis:\", now)\n",
    "print(\"Threshold level for gene coverage: \", threshold, \"%\")\n",
    "#yesno = ['Yes', 'No']\n",
    "#print(\"Quality inspection conducted: \", yesno[fastp])\n",
    "#print(\"Html report of analysis generated for each sample: \", yesno[rep])\n",
    "print(len(outputs), \" samples were analyzed: \\n\")\n",
    "samples = []\n",
    "predictions = []\n",
    "for output in outputs:\n",
    "    nb = pm.read_notebook(output)\n",
    "    samples.append(nb.dataframe.iloc[0]['value'])\n",
    "    predictions.append(nb.dataframe.iloc[5]['value'])\n",
    "  \n",
    "table = pd.DataFrame({'Sample': samples, 'Prediction': predictions})\n",
    "final = pd.merge(left=sizetable, right = table, left_on=\"Sample\", right_on = \"Sample\", how = 'left')\n",
    "from IPython.display import display, HTML\n",
    "display(HTML(final.to_html(index=False)))\n",
    "#print(nb.dataframe.iloc[3, 1], '\\n')"
   ]
  },
  {
   "cell_type": "code",
   "execution_count": null,
   "metadata": {},
   "outputs": [],
   "source": [
    "from IPython.display import HTML\n",
    "HTML('''<script>\n",
    "code_show=true; \n",
    "function code_toggle() {\n",
    " if (code_show){\n",
    " $('div.input').hide();\n",
    " } else {\n",
    " $('div.input').show();\n",
    " }\n",
    " code_show = !code_show\n",
    "} \n",
    "$( document ).ready(code_toggle);\n",
    "</script>\n",
    "The raw code for this notebook is by default hidden for easier reading.\n",
    "To toggle on/off the raw code, click <a href=\"javascript:code_toggle()\">here</a>.''')"
   ]
  }
 ],
 "metadata": {
  "kernelspec": {
   "display_name": "Python 3",
   "language": "python",
   "name": "python3"
  },
  "language_info": {
   "codemirror_mode": {
    "name": "ipython",
    "version": 3
   },
   "file_extension": ".py",
   "mimetype": "text/x-python",
   "name": "python",
   "nbconvert_exporter": "python",
   "pygments_lexer": "ipython3",
   "version": "3.6.5"
  }
 },
 "nbformat": 4,
 "nbformat_minor": 2
}
