{
 "cells": [
  {
   "cell_type": "markdown",
   "metadata": {},
   "source": [
    "## 1. Load the two paired-end Illumina reads"
   ]
  },
  {
   "cell_type": "code",
   "execution_count": null,
   "metadata": {
    "collapsed": true
   },
   "outputs": [],
   "source": [
    "import os\n",
    "import datetime\n",
    "import glob\n",
    "import numpy as np\n",
    "import pandas as pd\n",
    "from IPython.display import display, HTML\n",
    "\n",
    "start = datetime.datetime.now()\n",
    "print(\"read1: \", read1)\n",
    "print(\"read2: \", read2)\n",
    "print(\"name of sample: \", Sample)\n",
    "#create a directory for all files generated from analyzing this sample\n",
    "if not os.path.isdir(Sample):\n",
    "    os.makedirs(Sample)\n",
    "timetrack = []\n",
    "lapse = datetime.datetime.now() - start; timetrack.append(lapse.total_seconds())"
   ]
  },
  {
   "cell_type": "markdown",
   "metadata": {},
   "source": [
    "## 2. QC Characterization of the two reads files by fastp"
   ]
  },
  {
   "cell_type": "markdown",
   "metadata": {},
   "source": [
    "### 2.1. summary of quality attributes of the two fastq files (read1 and read2), no filtering:"
   ]
  },
  {
   "cell_type": "code",
   "execution_count": null,
   "metadata": {
    "collapsed": true
   },
   "outputs": [],
   "source": [
    "start = datetime.datetime.now()\n",
    "today = datetime.datetime.now().strftime(\"%Y%m%d\")\n",
    "if fastp == 0:\n",
    "    Report_html = Sample + \"/\" + Sample + \"_fastp_\" + today + \".html\"\n",
    "    Report_json = Sample + \"/\" + Sample + \"_fastp_\" + today + \".json\"\n",
    "    fastplog = Sample + \"/\" + Sample + \"fastp.log\"\n",
    "    !fastp -i $read1 -I $read2 -Q -h $Report_html -j $Report_json >> $fastplog\n",
    "else: print(\"Quality insepction skipped.\")\n",
    "lapse = datetime.datetime.now() - start; timetrack.append(lapse.total_seconds())"
   ]
  },
  {
   "cell_type": "code",
   "execution_count": null,
   "metadata": {
    "collapsed": true
   },
   "outputs": [],
   "source": [
    "start = datetime.datetime.now()\n",
    "if fastp == 0: \n",
    "    import json\n",
    "    data = json.load(open(Report_json))\n",
    "\n",
    "    attr = [\"Number of reads\", \"Number of bases\", \"Q20 bases\", \"Q30 bases\", \"Average read length\"]\n",
    "    read1sum = [data[\"read1_before_filtering\"].get(\"total_reads\"), data[\"read1_before_filtering\"].get(\"total_bases\"),\n",
    "                data[\"read1_before_filtering\"].get(\"q20_bases\"), data[\"read1_before_filtering\"].get(\"q30_bases\")]\n",
    "    read1q20 = str(read1sum[2]) + \" (\" + str(round(100*read1sum[2]/read1sum[1],2)) +\"%)\"\n",
    "    read1q30 = str(read1sum[3]) + \" (\" + str(round(100*read1sum[3]/read1sum[1],2)) +\"%)\"\n",
    "    col1 = read1sum[0:2] + [read1q20, read1q30] + [round(read1sum[1]/read1sum[0],2)]\n",
    "    read2sum = [data[\"read2_before_filtering\"].get(\"total_reads\"), data[\"read2_before_filtering\"].get(\"total_bases\"),\n",
    "                data[\"read2_before_filtering\"].get(\"q20_bases\"), data[\"read2_before_filtering\"].get(\"q30_bases\")]\n",
    "    read2q20 = str(read2sum[2]) + \" (\" + str(round(100*read2sum[2]/read2sum[1],2)) +\"%)\"\n",
    "    read2q30 = str(read2sum[3]) + \" (\" + str(round(100*read2sum[3]/read2sum[1],2)) +\"%)\"\n",
    "    col2 = [read2sum[0], read2sum[1], read2q20, read2q30] + [round(read2sum[1]/read2sum[0],2)]\n",
    "    totalsum = [data[\"summary\"][\"before_filtering\"].get(\"total_reads\"), data[\"summary\"][\"before_filtering\"].get(\"total_bases\"),\n",
    "                data[\"summary\"][\"before_filtering\"].get(\"q20_bases\"), data[\"summary\"][\"before_filtering\"].get(\"q30_bases\")]\n",
    "    totalq20 = str(totalsum[2]) + \" (\" + str(round(100*totalsum[2]/totalsum[1],2)) +\"%)\"\n",
    "    totalq30 = str(totalsum[3]) + \" (\" + str(round(100*totalsum[3]/totalsum[1],2)) +\"%)\"\n",
    "    col3 = totalsum[0:2] + [totalq20, totalq30] + [round(totalsum[1]/totalsum[0],2)]\n",
    "\n",
    "    df = pd.DataFrame({' ': attr,'read1': col1,'read2':col2, 'Total': col3})\n",
    "    df = df[[' ', 'read1', 'read2', 'Total']]\n",
    "    \n",
    "    display(HTML(df.to_html(index=False)))\n",
    "lapse = datetime.datetime.now() - start; timetrack.append(lapse.total_seconds())"
   ]
  },
  {
   "cell_type": "markdown",
   "metadata": {},
   "source": [
    "### 2.2. Visualization of base quality by type and position"
   ]
  },
  {
   "cell_type": "code",
   "execution_count": null,
   "metadata": {
    "collapsed": true
   },
   "outputs": [],
   "source": [
    "start = datetime.datetime.now()\n",
    "%matplotlib inline\n",
    "if fastp == 0:\n",
    "    read1_after = data[\"read1_before_filtering\"][\"quality_curves\"]\n",
    "    read1A = read1_after[\"A\"]; read1G = read1_after[\"G\"]\n",
    "    read1T = read1_after[\"T\"]; read1C = read1_after[\"C\"]\n",
    "\n",
    "    read2_after = data[\"read2_before_filtering\"][\"quality_curves\"]\n",
    "    read2A = read2_after[\"A\"]; read2G = read2_after[\"G\"]\n",
    "    read2T = read2_after[\"T\"]; read2C = read2_after[\"C\"]\n",
    "\n",
    "    import matplotlib.pyplot as plt\n",
    "    fig, (plt1, plt2) = plt.subplots(nrows =1, ncols =2, figsize = (6*2, 5*1))\n",
    "\n",
    "    plt1.plot(range(len(read1A)), read1A, color = \"green\")\n",
    "    plt1.plot(range(len(read1G)), read1G, color = \"black\")\n",
    "    plt1.plot(range(len(read1T)), read1T, color = \"red\")\n",
    "    plt1.plot(range(len(read1C)), read1C, color = \"blue\")\n",
    "    plt1.set_ylim((15, 43)); plt1.set_title(\"Read1: Base Quality\")\n",
    "    plt1.legend((\"read1_A\", \"read1_G\", \"read1_T\", \"read1_C\"), loc = \"lower left\")\n",
    "    plt1.set_xlabel(\"Position\"); plt1.set_ylabel(\"Average Quality Score\")\n",
    "\n",
    "    plt2.plot(range(len(read2A)), read2A, color = \"green\")\n",
    "    plt2.plot(range(len(read2G)), read2G, color = \"black\")\n",
    "    plt2.plot(range(len(read2T)), read2T, color = \"red\")\n",
    "    plt2.plot(range(len(read2C)), read2C, color = \"blue\")\n",
    "    plt2.set_ylim((15, 43)); plt2.set_title(\"Read2: Base Quality\")\n",
    "    plt2.legend((\"read2_A\", \"read2_G\", \"read2_T\", \"read2_C\"), loc = \"lower left\")\n",
    "    plt2.set_xlabel(\"Position\")\n",
    "else: print(\"Not plotted.\")\n",
    "lapse = datetime.datetime.now() - start; timetrack.append(lapse.total_seconds())"
   ]
  },
  {
   "cell_type": "markdown",
   "metadata": {},
   "source": [
    "### 2.3. Average depth of coverage"
   ]
  },
  {
   "cell_type": "code",
   "execution_count": null,
   "metadata": {
    "collapsed": true
   },
   "outputs": [],
   "source": [
    "start = datetime.datetime.now()\n",
    "if fastp == 0:\n",
    "    print(\"Depth of coverage (Assuming a genome size of ~5 Mbp): \", round(totalsum[1]/5e6, 1), \" fold\")\n",
    "else: print(\"Not calculated.\")\n",
    "lapse = datetime.datetime.now() - start; timetrack.append(lapse.total_seconds())"
   ]
  },
  {
   "cell_type": "markdown",
   "metadata": {},
   "source": [
    "## 3. Map Filtered reads to Reference sequence database (ShigellaRef5)"
   ]
  },
  {
   "cell_type": "code",
   "execution_count": null,
   "metadata": {
    "collapsed": true
   },
   "outputs": [],
   "source": [
    "start = datetime.datetime.now()\n",
    "# give an error message if the reference sequence database is not there\n",
    "ShigellaRef = \"../../references/ShigellaRef5.fasta\"\n",
    "if os.path.isfile(ShigellaRef) == False:\n",
    "    print(\"Error: reference sequence database does not exist!\")\n",
    "    exit()\n",
    "# indexing reference sequence database when necessary\n",
    "dir_path = os.path.dirname(os.path.realpath(ShigellaRef)) # absolute path of reference sequence directory\n",
    "rel_dir = os.path.relpath(dir_path, os.getcwd()) # relative path of reference sequence directory\n",
    "mmi_index = os.path.join(rel_dir, \"ShigellaRef5.mmi\")\n",
    "if os.path.isfile(mmi_index) == False:\n",
    "    print(\"building Reference sequence index.......\")\n",
    "    !minimap2 -d $mmi_index $ShigellaRef\n",
    "lapse = datetime.datetime.now() - start; timetrack.append(lapse.total_seconds())"
   ]
  },
  {
   "cell_type": "code",
   "execution_count": null,
   "metadata": {
    "collapsed": true,
    "scrolled": false
   },
   "outputs": [],
   "source": [
    "start = datetime.datetime.now()\n",
    "# map the fastq.gz files to reference sequence database\n",
    "outputbam = Sample + \"/\" + Sample + \"_Shigella5.bam\"\n",
    "maplog = Sample + \"/\" + Sample + \"_Shigella5_minimap2.log\"\n",
    "!(minimap2 -ax sr $mmi_index $read1 $read2 | samtools view -F 0x04 -b | samtools sort -o $outputbam -) 2>$maplog\n",
    "lapse = datetime.datetime.now() - start; timetrack.append(lapse.total_seconds())"
   ]
  },
  {
   "cell_type": "markdown",
   "metadata": {},
   "source": [
    "### Checkpoint 1 \n",
    "If there is no read mapped to the reference sequence database, discontinue the analysis."
   ]
  },
  {
   "cell_type": "code",
   "execution_count": null,
   "metadata": {
    "collapsed": true
   },
   "outputs": [],
   "source": [
    "start = datetime.datetime.now()\n",
    "checkpoint = 0\n",
    "ipaB = 0\n",
    "prediction = \"\"\n",
    "NR = ! samtools view $outputbam | wc -l\n",
    "if int(NR[0]) == 0:\n",
    "    checkpoint = 1\n",
    "    print(\"Checkpoint 1 failed.\")\n",
    "    prediction =\"Not Shigella or EIEC\"\n",
    "else: print(\"Checkpoint 1......passed.\")\n",
    "lapse = datetime.datetime.now() - start; timetrack.append(lapse.total_seconds())"
   ]
  },
  {
   "cell_type": "markdown",
   "metadata": {},
   "source": [
    "## 3.1. Examine sequence hits identified by bowtie2"
   ]
  },
  {
   "cell_type": "code",
   "execution_count": null,
   "metadata": {
    "collapsed": true
   },
   "outputs": [],
   "source": [
    "start = datetime.datetime.now()\n",
    "#check what sequences were hits and how many reads were mapped to each of the hits\n",
    "if checkpoint == 0:\n",
    "    Hits = !samtools view $outputbam | cut -f3 | uniq -c\n",
    "    hits = []; Nreads = []\n",
    "    for hit in Hits:\n",
    "        hits.append(hit[8:]); Nreads.append(int(hit[:7]))\n",
    "    Maphits = pd.DataFrame({'Hit': hits, 'Number of reads': Nreads})\n",
    "lapse = datetime.datetime.now() - start; timetrack.append(lapse.total_seconds())"
   ]
  },
  {
   "cell_type": "markdown",
   "metadata": {},
   "source": [
    "### Checkpoint 2\n",
    "If the strain is not Shigella or EIEC, discontinue the analysis."
   ]
  },
  {
   "cell_type": "code",
   "execution_count": null,
   "metadata": {
    "collapsed": true
   },
   "outputs": [],
   "source": [
    "start = datetime.datetime.now()\n",
    "if checkpoint == 0:\n",
    "    if \"ipaH_c\" not in hits: \n",
    "        checkpoint = 2\n",
    "        if \"Sb13_wzx\" in hits:\n",
    "            prediction = \"Shigella boydii serotype 13\"\n",
    "            checkpoint = 13\n",
    "        else:\n",
    "            print(\"Checkpoint 2 failed!\")\n",
    "            prediction = \"Not Shigella or EIEC\"\n",
    "    else: print(\"Checkpoint 2.....passed.\")\n",
    "lapse = datetime.datetime.now() - start; timetrack.append(lapse.total_seconds())"
   ]
  },
  {
   "cell_type": "markdown",
   "metadata": {},
   "source": [
    "## 3.2. Determine breadth of coverage and accuracy of the mapped hits"
   ]
  },
  {
   "cell_type": "code",
   "execution_count": null,
   "metadata": {
    "collapsed": true
   },
   "outputs": [],
   "source": [
    "start = datetime.datetime.now()\n",
    "if checkpoint == 0:\n",
    "    print(\"........................\")\n",
    "    # find reference sequence length for calculation of % coverage\n",
    "    Gene_length = list()\n",
    "    RefDic = dict()\n",
    "    Reflines = !samtools view -H $outputbam | grep \"SN\"\n",
    "    for Refline in Reflines:\n",
    "        line = Refline[(Refline.find(\"SN:\")+3):]\n",
    "        words = line.split(\"LN:\")\n",
    "        RefDic[words[0].strip()] = int(words[1])\n",
    "    for target, length in RefDic.items():\n",
    "        if target in hits:\n",
    "            Gene_length.append(length)\n",
    "lapse = datetime.datetime.now() - start; timetrack.append(lapse.total_seconds())"
   ]
  },
  {
   "cell_type": "code",
   "execution_count": null,
   "metadata": {
    "collapsed": true
   },
   "outputs": [],
   "source": [
    "start = datetime.datetime.now()\n",
    "if checkpoint == 0:\n",
    "    print(\"Analysis in progress........ \\n\")\n",
    "    # index the bam file for mpileup\n",
    "    !samtools index $outputbam\n",
    "    # index reference sequence for mpileup if the index is not already there\n",
    "    #if os.path.isfile(\"../../references/ShigellaRef5.fasta.fai\") == False:\n",
    "    #    !samtools faidx $ShigellaRef\n",
    "\n",
    "    outputmpileup = Sample + \"/\" + Sample + \"_Shigella5.mpileup\"\n",
    "    !samtools mpileup -C50 -q 20 -Q 20 -f $ShigellaRef $outputbam -o $outputmpileup\n",
    "    # can I pipe it so that I won't have a mpileup file left in the disk?\n",
    "else: print(\"skipped.\")\n",
    "lapse = datetime.datetime.now() - start; timetrack.append(lapse.total_seconds())"
   ]
  },
  {
   "cell_type": "code",
   "execution_count": null,
   "metadata": {
    "collapsed": true
   },
   "outputs": [],
   "source": [
    "start = datetime.datetime.now()\n",
    "if checkpoint == 0:\n",
    "    print(\"........................\")\n",
    "    covSummary = !cat $outputmpileup | awk '$4 > 0' | cut -f1 | uniq -c\n",
    "    hits = []; bpCovered = []\n",
    "    for hit in covSummary:\n",
    "        hits.append(hit[8:]); bpCovered.append(int(hit[:7]))\n",
    "    hitsCovered = pd.DataFrame({'Hit': hits, 'Length Covered': bpCovered})\n",
    "    # merge 2 tables on \"Hit\"\n",
    "    List1 = pd.merge(left=Maphits, right = hitsCovered, left_on=\"Hit\", right_on = \"Hit\", how = 'left')\n",
    "    List1 = List1.fillna(0)\n",
    "    List1[\"reference length\"] = Gene_length\n",
    "    # calculate percent reference sequence covered\n",
    "    List1[\"% covered\"] = round(100* List1[\"Length Covered\"].div(List1[\"reference length\"]), 1)\n",
    "lapse = datetime.datetime.now() - start; timetrack.append(lapse.total_seconds())"
   ]
  },
  {
   "cell_type": "code",
   "execution_count": null,
   "metadata": {
    "collapsed": true
   },
   "outputs": [],
   "source": [
    "start = datetime.datetime.now()\n",
    "if checkpoint == 0:\n",
    "    VARS = !samtools mpileup -C50 -q 20 -Q 20 -f $ShigellaRef -g $outputbam | bcftools \\\n",
    "    call -m | cat | grep -v \"^#\" | grep PL | cut -f1 | uniq -c\n",
    "    VARS = VARS[3:]\n",
    "    hits = []; Nvar = []\n",
    "    for hit in VARS:\n",
    "        hits.append(hit[8:]); Nvar.append(int(hit[:7]))\n",
    "        Variants = pd.DataFrame({'Hit': hits, 'Number of variants': Nvar})\n",
    "lapse = datetime.datetime.now() - start; timetrack.append(lapse.total_seconds())"
   ]
  },
  {
   "cell_type": "code",
   "execution_count": null,
   "metadata": {
    "collapsed": true
   },
   "outputs": [],
   "source": [
    "start = datetime.datetime.now()\n",
    "if checkpoint == 0:\n",
    "    # merge the two tables and add % accuracy\n",
    "    List2 = pd.merge(left=List1, right = Variants, left_on=\"Hit\", right_on = \"Hit\", how = 'left')\n",
    "    List2 = List2.fillna(0)\n",
    "    List2[\"accurate seq\"] = List2[\"Length Covered\"] - List2[\"Number of variants\"]\n",
    "    List2[\"% accuracy\"] = round(100*List2[\"accurate seq\"].div(List2[\"Length Covered\"]), 1)\n",
    "    List2 = List2.drop('accurate seq', axis =1)\n",
    "lapse = datetime.datetime.now() - start; timetrack.append(lapse.total_seconds())"
   ]
  },
  {
   "cell_type": "code",
   "execution_count": null,
   "metadata": {
    "collapsed": true
   },
   "outputs": [],
   "source": [
    "start = datetime.datetime.now()\n",
    "if checkpoint == 0:\n",
    "    # filter based on threshold for % coverage and 80% for % accuracy\n",
    "    FList = List2[(List2[\"% covered\"] >= threshold) & (List2[\"% accuracy\"] >= 80)]\n",
    "    print(\"Analysis completed.\")\n",
    "lapse = datetime.datetime.now() - start; timetrack.append(lapse.total_seconds())"
   ]
  },
  {
   "cell_type": "markdown",
   "metadata": {},
   "source": [
    "### Checkpoint 3 \n",
    "If the coverage for the sample is too low, or the strain is lacY+ (potentially EIEC), discontinue the analysis."
   ]
  },
  {
   "cell_type": "code",
   "execution_count": null,
   "metadata": {
    "collapsed": true
   },
   "outputs": [],
   "source": [
    "start = datetime.datetime.now()\n",
    "if checkpoint == 0:\n",
    "    Hits = FList.Hit.tolist()\n",
    "    if \"ipaH_c\" in Hits:\n",
    "        Hits.remove(\"ipaH_c\")\n",
    "    else:\n",
    "        checkpoint = 31\n",
    "        if \"Sb13_wzx\" in hits:\n",
    "            prediction = \"Shigella boydii serotype 13\"\n",
    "            checkpoint = 13\n",
    "        else:\n",
    "            print(\"Checkpoint 3 failed!\")\n",
    "            prediction = \"Not Shigella or EIEC\"\n",
    "        \n",
    "    # ipaB may have lower coverage because of its locating on a plasmid though.\n",
    "    if \"ipaB\" in Hits:\n",
    "        ipaB += 1\n",
    "        Hits.remove(\"ipaB\")\n",
    "    \n",
    "    if \"EclacY\" in Hits:\n",
    "        exception = ['Sb9_wzx', 'Sb15_wzx']\n",
    "        if any(gene in Hits for gene in exception) is True:\n",
    "            checkpoint = 0\n",
    "        else:\n",
    "            checkpoint = 32\n",
    "            prediction = \"EIEC\"\n",
    "if checkpoint == 0: print(\"Checkpoint 3.....passed.\")\n",
    "elif checkpoint == 3: print(\"Checkpoint 3 failed!\")\n",
    "lapse = datetime.datetime.now() - start; timetrack.append(lapse.total_seconds())"
   ]
  },
  {
   "cell_type": "markdown",
   "metadata": {},
   "source": [
    "### Checkpoint 4 \n",
    "If there are no hits at all left, or are multiple hits of O-antigen serotype determinant, discontinue the analysis."
   ]
  },
  {
   "cell_type": "code",
   "execution_count": null,
   "metadata": {
    "collapsed": true
   },
   "outputs": [],
   "source": [
    "start = datetime.datetime.now()\n",
    "if checkpoint == 0:\n",
    "    if len(Hits) == 0:\n",
    "        checkpoint = 41\n",
    "        prediction = \"No prediction (no wzx)\"\n",
    "        \n",
    "    else:\n",
    "        def wzxindex(Hits):\n",
    "            ind = []\n",
    "            for i, j in enumerate(Hits):\n",
    "                if j.find(\"wzx\") > 0: ind.append(i)\n",
    "            return ind\n",
    "\n",
    "        if len(wzxindex(Hits)) > 1:\n",
    "            # np.delete(Hits, wzxindex(Hits)).tolist() #import numpy as np # I forgot why I have this line\n",
    "            checkpoint = 42\n",
    "            prediction = \"No prediction (multiple wzx)\"\n",
    "else: print(\"Skipped.\")\n",
    "            \n",
    "if checkpoint == 0: print(\"Checkpoint 4 ..... passed\")\n",
    "elif checkpoint == 4: print(\"Checkpoint 4 failed!\")\n",
    "lapse = datetime.datetime.now() - start\n",
    "timetrack.append(lapse.total_seconds())"
   ]
  },
  {
   "cell_type": "markdown",
   "metadata": {},
   "source": [
    "## 4. Shigella serotype prediction"
   ]
  },
  {
   "cell_type": "code",
   "execution_count": null,
   "metadata": {
    "collapsed": true
   },
   "outputs": [],
   "source": [
    "start = datetime.datetime.now()\n",
    "if checkpoint == 0:\n",
    "    if \"cadA\" in Hits:\n",
    "        Hits.remove(\"cadA\")\n",
    "        if \"Ss_methylase\" in Hits:\n",
    "            if len(wzxindex(Hits)) == 0:\n",
    "                if ipaB == 0: \n",
    "                    prediction = \"Shigella sonnei form II\"\n",
    "                else: \n",
    "                    prediction = \"Shigella sonnei (low levels of form I)\"\n",
    "            elif \"Ss_wzx\" in Hits:\n",
    "                prediction = \"Shigella sonnei, form I\"\n",
    "            else:\n",
    "                prediction = \"EIEC\"; checkpoint = 32\n",
    "        elif \"Sd1_wzx\" in Hits:\n",
    "            if \"Sd1_rfp\" in Hits: \n",
    "                prediction = \"Shigella dysenteriae serotype 1\"\n",
    "            else: \n",
    "                prediction = \"Shigalla dysenteriae serotype 1, rfp- (phenotypically negative)\"\n",
    "        elif \"Sd8_wzx\" in Hits:\n",
    "            prediction = \"Shigella dysenteriae serotype 8\"\n",
    "        elif \"Sb11_wzx\" in Hits:\n",
    "            prediction = \"Shigella boydii serotype 11\"\n",
    "        else:\n",
    "            prediction = \"EIEC\"; checkpoint = 32\n",
    "    else:\n",
    "    ## the rationale is the S. boydii 6 has poor quality at the IS insertion junction (bp 252:253) so the ratio of \n",
    "    ## mpileup depth to samtools depth at the junction is way lower than the ratio for the overall gene\n",
    "        if \"Sb6_wzx\" in Hits:\n",
    "            if \"wbaM\" in Hits:\n",
    "                a = !samtools depth -r wbaM:252-253 $outputbam | cut -f3\n",
    "                a = [int(i) for i in a]; average_a = sum(a)/len(a)\n",
    "                if a == 0:\n",
    "                    prediction = \"Shigella boydii serotype 6 or 10\"\n",
    "                else:\n",
    "                    b = ! cat $outputmpileup | awk '$1==\"wbaM\" && $2 >251 && $2 <254' | cut -f4\n",
    "                    b = [int(i) for i in b]; average_b = sum(b)/len(b)\n",
    "                    junction_ratio = average_b/average_a\n",
    "                    c = !samtools depth -r wbaM $outputbam | cut -f3\n",
    "                    c = [int(i) for i in c]; average_c = sum(c)/len(c)\n",
    "                    d = ! cat $outputmpileup | awk '$1==\"wbaM\"' | cut -f4\n",
    "                    d = [int(i) for i in d]; average_d = sum(d)/len(d)\n",
    "                    overall_ratio = average_d/average_c        \n",
    "                    if junction_ratio/overall_ratio > 0.5:\n",
    "                        prediction = \"Shigella boydii serotype 10\"\n",
    "                    else:\n",
    "                        prediction = \"Shigella boydii serotype 6\"\n",
    "            else: prediction = \"Shigella boydii serotype 6 or 10\" \n",
    "        else:\n",
    "            if len(wzxindex(Hits)) == 0:\n",
    "                prediction = \"No prediction (no wzx)\"\n",
    "                checkpoint = 41\n",
    "            else: \n",
    "                wzx = Hits[wzxindex(Hits)[0]]\n",
    "                if wzx == \"Sb1_wzx\":\n",
    "                    if \"heparinase\" in Hits:\n",
    "                        prediction = \"Shigella boydii serotype 20\"\n",
    "                    else: \n",
    "                        prediction = \"Shigella boydii serotype 1\"\n",
    "                elif wzx == \"SbProv_wzx\":\n",
    "                    prediction = \"Shigella boydii Provisional serotype E1621-54\"\n",
    "                elif wzx == \"SdProv_wzx\":\n",
    "                    prediction = \"Shigella dysenteriae Provisional serotype 96-265\"\n",
    "                elif wzx == \"SdProvE_wzx\":\n",
    "                    prediction = \"Shigella dysenteriae Provisional serotype E670-74\"\n",
    "                elif wzx[1] == \"b\":\n",
    "                    prediction = \"Shigella boydii serotype \" + wzx[2:wzx.find(\"_\")]\n",
    "                elif wzx[1] == \"d\":\n",
    "                    prediction = \"Shigella dysenteriae serotype \" + wzx[2:wzx.find(\"_\")]\n",
    "                elif wzx == \"Sf6_wzx\":\n",
    "                    prediction = \"Shigella flexneri serotype 6\"\n",
    "                else:\n",
    "                    Hits.remove(\"Sf_wzx\")\n",
    "                    try: Hits.remove(\"Sf_wzy\")\n",
    "                    except: Hits = Hits\n",
    "                    if len(Hits) == 0:\n",
    "                        prediction = \"Shigella flexneri serotype Y\"\n",
    "                    else:\n",
    "                        SfDic = {\"Shigella flexneri Yv\": [\"Xv\"], \"Shigella flexneri serotype 1a\": [\"gtrI\"], \n",
    "                             \"Shigella flexneri serotype 1b\": [\"gtrI\", \"Oac1b\"], \"Shigella flexneri serotype 2a\": \n",
    "                            [\"gtrII\"], \"Shigella flexneri serotype 2b\": [\"gtrII\", \"gtrX\"], \"Shigella flexneri serotype 3a\":\n",
    "                             [\"gtrX\",\"Oac\"], \"Shigella flexneri serotype 3b\": [\"Oac\"], \"Shigella flexneri serotype 4a\": \n",
    "                             [\"gtrIV\"], \"Shigella flexneri serotype 4av\": [\"gtrIV\", \"Xv\"], \"Shigella flexneri serotype 4b\":\n",
    "                            [\"gtrIV\", \"Oac\"], \"Shigella flexneri serotype 5a\": ([\"gtrV\", \"Oac\"], ['gtrV']),\n",
    "                                 \"Shigella flexneri serotype 5b\": ([\"gtrV\", \"gtrX\", \"Oac\"], ['gtrV', 'gtrX']),\n",
    "                                 \"Shigella flexneri serotype X\": [\"gtrX\"], \"Shigella flexneri serotype Xv (4c)\":\n",
    "                            [\"gtrX\", \"Xv\"], \"Shigella flexneri serotype 1c (7a)\": ['gtrI', 'gtrIC'], \n",
    "                            \"Shigella flexneri serotype 7b\": ['gtrI', \"gtrIC\", \"Oac1b\"]}\n",
    "                        predict = 0\n",
    "                        for Serotype, Targets in SfDic.items():\n",
    "                            if Targets == Hits:\n",
    "                                prediction = Serotype; predict += 1\n",
    "                            elif Hits in Targets:\n",
    "                                prediction = Serotype; predict += 1\n",
    "                        if predict == 0:\n",
    "                            prediction = \"Shigella flexneri, novel serotype\"\n",
    "else: print(\"Skipped.\")\n",
    "lapse = datetime.datetime.now() - start; timetrack.append(lapse.total_seconds())"
   ]
  },
  {
   "cell_type": "code",
   "execution_count": null,
   "metadata": {
    "collapsed": true
   },
   "outputs": [],
   "source": [
    "start = datetime.datetime.now()\n",
    "import papermill as pm\n",
    "pm.record(\"prediction\", prediction)\n",
    "\n",
    "from IPython.display import Markdown, display\n",
    "finaloutput = \"**\" + Sample + \" is predicted to be \" + prediction + \".**\"\n",
    "display(Markdown(finaloutput))\n",
    "if checkpoint == 1:\n",
    "    print(\"No read was mapped to the reference sequence database.\")\n",
    "elif checkpoint == 2:\n",
    "    print(Sample, \" is ipaH-.\")\n",
    "elif checkpoint == 13:\n",
    "    print(\"Shigella boydii serotype 13 is no longer considered a Shigella.\")\n",
    "elif checkpoint == 31:\n",
    "    print(\"No ipaH with sufficient coverage and accuracy was detected.\")\n",
    "elif checkpoint == 32:\n",
    "    print(Sample, \" is lacY+ or cadA+ but not one of the exception Shigella serotypes.\")\n",
    "elif checkpoint == 41:\n",
    "    print(\"No known wzx was detected. Either there was not enough coverage, or \", Sample, \" is a novel Shigella strain.\")\n",
    "elif checkpoint == 42:\n",
    "    print(\"Multiple wzx genes were detected. There's a potential contamination in the sample.\")\n",
    "\n",
    "\n",
    "if ipaB >0:\n",
    "    print(\"\\nAdditionally, this strain is ipaB+, suggesting that it retains the virulent invasion plasmid.\")\n",
    "\n",
    "if checkpoint == 1:\n",
    "    pass\n",
    "else:\n",
    "    print(\"\\nPlease consult the table below for further information:\")\n",
    "    from IPython.display import display, HTML\n",
    "    if \"ipaH_c\" in Maphits.Hit.tolist():\n",
    "        rowindex = []\n",
    "        for i in range(List2.shape[0]):\n",
    "            if List2.iloc[i]['% covered'] > threshold:\n",
    "                rowindex.append(i)\n",
    "        def color(x):\n",
    "            df = x.copy()\n",
    "            df.loc[:,:] = \"\"\n",
    "            df.loc[rowindex, ] = 'color: blue'\n",
    "            return df\n",
    "        List2_blue = List2.style.apply(color, axis = None)\n",
    "        display(HTML(List2_blue.render(index=False)))\n",
    "        print(\"Note: colored in blue are gene hits that passed threshold length coverage. (\", threshold, \"% )\")\n",
    "    else: display(HTML(Maphits.to_html(index=False)))\n",
    "          \n",
    "now = datetime.datetime.now().strftime(\"%Y-%m-%d %H-%M\")\n",
    "print(\"\\nDate and time of analysis: \", now)\n",
    "lapse = datetime.datetime.now() - start\n",
    "timetrack.append(lapse.total_seconds())"
   ]
  },
  {
   "cell_type": "code",
   "execution_count": null,
   "metadata": {
    "collapsed": true
   },
   "outputs": [],
   "source": [
    "# removing files generated from fastp, minimap2, and samtools:\n",
    "start = datetime.datetime.now()\n",
    "filedir = Sample + \"/*.*\"\n",
    "files = glob.glob(filedir)\n",
    "for file in files: os.remove(file)\n",
    "os.rmdir(Sample)\n",
    "lapse = datetime.datetime.now() - start\n",
    "timetrack.append(lapse.total_seconds())"
   ]
  },
  {
   "cell_type": "code",
   "execution_count": null,
   "metadata": {
    "collapsed": true
   },
   "outputs": [],
   "source": [
    "# save output for time\n",
    "#if fastp== 0:\n",
    "#    import csv\n",
    "#    timeoutput = Sample + \"_\" + now[:now.find(\" \")] + \"_time.csv\"\n",
    "#    with open(timeoutput, 'w') as f:\n",
    "#        writer = csv.writer(f)\n",
    "#        writer.writerow([Sample] + timetrack)"
   ]
  },
  {
   "cell_type": "code",
   "execution_count": null,
   "metadata": {
    "collapsed": true
   },
   "outputs": [],
   "source": [
    "HTML('''<script>\n",
    "code_show=true; \n",
    "function code_toggle() {\n",
    " if (code_show){\n",
    " $('div.input').hide();\n",
    " } else {\n",
    " $('div.input').show();\n",
    " }\n",
    " code_show = !code_show\n",
    "} \n",
    "$( document ).ready(code_toggle);\n",
    "</script>\n",
    "The raw code for this IPython notebook is by default hidden for easier reading.\n",
    "To toggle on/off the raw code, click <a href=\"javascript:code_toggle()\">here</a>.''')"
   ]
  }
 ],
 "metadata": {
  "kernelspec": {
   "display_name": "Python 3",
   "language": "python",
   "name": "python3"
  },
  "language_info": {
   "codemirror_mode": {
    "name": "ipython",
    "version": 3
   },
   "file_extension": ".py",
   "mimetype": "text/x-python",
   "name": "python",
   "nbconvert_exporter": "python",
   "pygments_lexer": "ipython3",
   "version": "3.6.5"
  }
 },
 "nbformat": 4,
 "nbformat_minor": 2
}
